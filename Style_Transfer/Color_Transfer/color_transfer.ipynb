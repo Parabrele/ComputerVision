{
 "cells": [
  {
   "cell_type": "code",
   "execution_count": 1,
   "metadata": {},
   "outputs": [],
   "source": [
    "import os\n",
    "\n",
    "import torch\n",
    "from tqdm import tqdm\n",
    "\n",
    "from color_transfer import kmeans_color_transfer, stat_color_transfer\n",
    "\n",
    "import images as im"
   ]
  },
  {
   "cell_type": "code",
   "execution_count": 2,
   "metadata": {},
   "outputs": [],
   "source": [
    "content_paths = [\n",
    "    'C:\\\\Users\\\\ConnardMcGregoire\\\\Documents\\\\images\\\\contents\\\\OS_FHD.jpg',\n",
    "    'C:\\\\Users\\\\ConnardMcGregoire\\\\Documents\\\\images\\\\contents\\\\bacon\\\\bacon_01.jpg',\n",
    "    'C:\\\\Users\\\\ConnardMcGregoire\\\\Documents\\\\images\\\\contents\\\\elden\\\\elden_02.jpg',\n",
    "    'C:\\\\Users\\\\ConnardMcGregoire\\\\Documents\\\\images\\\\contents\\\\Eva\\\\Eva_01.jpg',\n",
    "    'C:\\\\Users\\\\ConnardMcGregoire\\\\Documents\\\\images\\\\contents\\\\Eva\\\\Eva_02.jpg',\n",
    "    'C:\\\\Users\\\\ConnardMcGregoire\\\\Documents\\\\images\\\\contents\\\\Eva\\\\Eva_04.jpg',\n",
    "    'C:\\\\Users\\\\ConnardMcGregoire\\\\Documents\\\\images\\\\contents\\\\Eva\\\\Eva_07.jpg',\n",
    "    'C:\\\\Users\\\\ConnardMcGregoire\\\\Documents\\\\images\\\\contents\\\\forest\\\\forest_floor.jpg',\n",
    "    'C:\\\\Users\\\\ConnardMcGregoire\\\\Documents\\\\images\\\\contents\\\\forest\\\\in1.jpg',\n",
    "    'C:\\\\Users\\\\ConnardMcGregoire\\\\Documents\\\\images\\\\contents\\\\joconde.jpg',\n",
    "]\n",
    "\n",
    "style_paths = [\n",
    "    'C:\\\\Users\\\\ConnardMcGregoire\\\\Documents\\\\images\\\\contents\\\\elden\\\\elden_02.jpg',\n",
    "    'C:\\\\Users\\\\ConnardMcGregoire\\\\Documents\\\\images\\\\styles\\\\Ice.jpg',\n",
    "    'C:\\\\Users\\\\ConnardMcGregoire\\\\Documents\\\\images\\\\styles\\\\Hokusai.jpg',\n",
    "    'C:\\\\Users\\\\ConnardMcGregoire\\\\Documents\\\\images\\\\styles\\\\brick\\\\brick_01.jpg',\n",
    "]\n",
    "\n",
    "save_path = 'C:\\\\Users\\\\ConnardMcGregoire\\\\Documents\\\\images\\\\results\\\\'"
   ]
  },
  {
   "cell_type": "code",
   "execution_count": 3,
   "metadata": {},
   "outputs": [
    {
     "name": "stderr",
     "output_type": "stream",
     "text": [
      "  0%|          | 0/10 [00:00<?, ?it/s]c:\\Users\\ConnardMcGregoire\\Documents\\ML4G\\feature vizu\\Style_Transfer\\Color_Transfer\\images.py:133: UserWarning: Conversion from CIE-LAB, via XYZ to sRGB color space resulted in 275 negative Z values that have been clipped to zero\n",
      "  image = lab2rgb(image)\n",
      "100%|██████████| 4/4 [00:31<00:00,  7.90s/it]\n",
      "100%|██████████| 4/4 [02:06<00:00, 31.57s/it]]\n",
      "100%|██████████| 4/4 [00:27<00:00,  6.76s/it]]\n",
      "100%|██████████| 4/4 [01:15<00:00, 18.86s/it]]\n",
      " 40%|████      | 4/10 [04:20<06:35, 65.96s/it]c:\\Users\\ConnardMcGregoire\\Documents\\ML4G\\feature vizu\\Style_Transfer\\Color_Transfer\\images.py:133: UserWarning: Conversion from CIE-LAB, via XYZ to sRGB color space resulted in 14995 negative Z values that have been clipped to zero\n",
      "  image = lab2rgb(image)\n",
      "c:\\Users\\ConnardMcGregoire\\Documents\\ML4G\\feature vizu\\Style_Transfer\\Color_Transfer\\images.py:133: UserWarning: Conversion from CIE-LAB, via XYZ to sRGB color space resulted in 17 negative Z values that have been clipped to zero\n",
      "  image = lab2rgb(image)\n",
      "c:\\Users\\ConnardMcGregoire\\Documents\\ML4G\\feature vizu\\Style_Transfer\\Color_Transfer\\images.py:133: UserWarning: Conversion from CIE-LAB, via XYZ to sRGB color space resulted in 5136 negative Z values that have been clipped to zero\n",
      "  image = lab2rgb(image)\n",
      "c:\\Users\\ConnardMcGregoire\\Documents\\ML4G\\feature vizu\\Style_Transfer\\Color_Transfer\\images.py:133: UserWarning: Conversion from CIE-LAB, via XYZ to sRGB color space resulted in 3236 negative Z values that have been clipped to zero\n",
      "  image = lab2rgb(image)\n",
      "100%|██████████| 4/4 [01:23<00:00, 20.88s/it]\n",
      "100%|██████████| 4/4 [01:09<00:00, 17.38s/it]]\n",
      "100%|██████████| 4/4 [01:07<00:00, 16.84s/it]]\n",
      "100%|██████████| 4/4 [00:25<00:00,  6.45s/it]]\n",
      " 80%|████████  | 8/10 [08:26<01:51, 55.96s/it]c:\\Users\\ConnardMcGregoire\\Documents\\ML4G\\feature vizu\\Style_Transfer\\Color_Transfer\\images.py:133: UserWarning: Conversion from CIE-LAB, via XYZ to sRGB color space resulted in 176047 negative Z values that have been clipped to zero\n",
      "  image = lab2rgb(image)\n",
      "c:\\Users\\ConnardMcGregoire\\Documents\\ML4G\\feature vizu\\Style_Transfer\\Color_Transfer\\images.py:133: UserWarning: Conversion from CIE-LAB, via XYZ to sRGB color space resulted in 189 negative Z values that have been clipped to zero\n",
      "  image = lab2rgb(image)\n",
      "c:\\Users\\ConnardMcGregoire\\Documents\\ML4G\\feature vizu\\Style_Transfer\\Color_Transfer\\images.py:133: UserWarning: Conversion from CIE-LAB, via XYZ to sRGB color space resulted in 9521 negative Z values that have been clipped to zero\n",
      "  image = lab2rgb(image)\n",
      "100%|██████████| 4/4 [00:50<00:00, 12.56s/it]\n",
      "100%|██████████| 4/4 [00:30<00:00,  7.53s/it]]\n",
      "100%|██████████| 10/10 [09:46<00:00, 58.69s/it]\n"
     ]
    }
   ],
   "source": [
    "with torch.no_grad():\n",
    "    for c_path in tqdm(content_paths):\n",
    "        for s_path in tqdm(style_paths):\n",
    "            c = im.load_image(c_path)\n",
    "            s = im.load_image(s_path)\n",
    "\n",
    "            res = stat_color_transfer(c, s, Lab=False, wct=False)\n",
    "            im.save_image(res, save_path\n",
    "                            + c_path.split('\\\\')[-1].split('.')[0]\n",
    "                            + '_' + s_path.split('\\\\')[-1].split('.')[0]\n",
    "                            + '_stat_rgb_mean.jpg'\n",
    "                        )\n",
    "\n",
    "            res = stat_color_transfer(c, s, Lab=False, wct=True)\n",
    "            im.save_image(res, save_path\n",
    "                            + c_path.split('\\\\')[-1].split('.')[0]\n",
    "                            + '_' + s_path.split('\\\\')[-1].split('.')[0]\n",
    "                            + '_stat_rgb_wct.jpg'\n",
    "                        )\n",
    "        \n",
    "            res = stat_color_transfer(c, s, Lab=True, wct=False)\n",
    "            im.save_image(res, save_path\n",
    "                            + c_path.split('\\\\')[-1].split('.')[0]\n",
    "                            + '_' + s_path.split('\\\\')[-1].split('.')[0]\n",
    "                            + '_stat_Lab_mean.jpg'\n",
    "                        )\n",
    "            \n",
    "            res = stat_color_transfer(c, s, Lab=True, wct=True)\n",
    "            im.save_image(res, save_path\n",
    "                            + c_path.split('\\\\')[-1].split('.')[0]\n",
    "                            + '_' + s_path.split('\\\\')[-1].split('.')[0]\n",
    "                            + '_stat_Lab_wct.jpg'\n",
    "                        )\n",
    "            \n",
    "            res = kmeans_color_transfer(c, s, Lab=True)\n",
    "            im.save_image(res, save_path\n",
    "                            + c_path.split('\\\\')[-1].split('.')[0]\n",
    "                            + '_' + s_path.split('\\\\')[-1].split('.')[0]\n",
    "                            + '_kmeans_Lab_mean.jpg'\n",
    "                        )"
   ]
  }
 ],
 "metadata": {
  "kernelspec": {
   "display_name": "Python 3",
   "language": "python",
   "name": "python3"
  },
  "language_info": {
   "codemirror_mode": {
    "name": "ipython",
    "version": 3
   },
   "file_extension": ".py",
   "mimetype": "text/x-python",
   "name": "python",
   "nbconvert_exporter": "python",
   "pygments_lexer": "ipython3",
   "version": "3.9.13"
  }
 },
 "nbformat": 4,
 "nbformat_minor": 2
}
