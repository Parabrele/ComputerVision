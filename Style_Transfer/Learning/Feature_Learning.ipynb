{
 "cells": [
  {
   "cell_type": "markdown",
   "metadata": {},
   "source": [
    "In Correlation_Learning, try to learn the correlation of the features of the target image.\n",
    "\n",
    "Here, directly transforms the features to have the desired statistics, and learns the immage that fits them."
   ]
  },
  {
   "cell_type": "code",
   "execution_count": null,
   "metadata": {},
   "outputs": [],
   "source": []
  }
 ],
 "metadata": {
  "language_info": {
   "name": "python"
  }
 },
 "nbformat": 4,
 "nbformat_minor": 2
}
