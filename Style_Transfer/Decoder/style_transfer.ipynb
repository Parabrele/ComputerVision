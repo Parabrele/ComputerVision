{
 "cells": [
  {
   "cell_type": "markdown",
   "metadata": {},
   "source": [
    "This folder implements two types of style transfer.\n",
    "\n",
    "The first one is described in demonic_blender.ipynb, and in https://www.cv-foundation.org/openaccess/content_cvpr_2016/papers/Gatys_Image_Style_Transfer_CVPR_2016_paper.pdf.\n",
    "\n",
    "The second one is taken from https://arxiv.org/pdf/1705.08086.pdf and reimplemented here."
   ]
  },
  {
   "cell_type": "code",
   "execution_count": 1,
   "metadata": {},
   "outputs": [],
   "source": [
    "import os\n",
    "\n",
    "import torch\n",
    "from tqdm import tqdm\n",
    "\n",
    "import images as im\n",
    "\n",
    "import encoder_decoder_factory as edf\n",
    "\n",
    "torch.set_default_tensor_type('torch.cuda.FloatTensor')\n",
    "device = torch.device(\"cuda\" if torch.cuda.is_available() else \"cpu\")"
   ]
  },
  {
   "cell_type": "code",
   "execution_count": 2,
   "metadata": {},
   "outputs": [],
   "source": [
    "all_content_paths = []\n",
    "\n",
    "content_path = 'C:\\\\Users\\\\ConnardMcGregoire\\\\Documents\\\\images\\\\contents'\n",
    "\n",
    "content_dir = [\n",
    "    'Eva',\n",
    "    'bacon',\n",
    "    'forest',\n",
    "    'kimi',\n",
    "]\n",
    "\n",
    "content_paths = [\n",
    "    'OS_FHD.jpg',\n",
    "    'Megumin.jpg',\n",
    "    'quenelle.jpg',\n",
    "    'lepen.jpg',\n",
    "    'joconde.jpg',\n",
    "    'ori_01.jpg',\n",
    "    'elden\\\\elden_ring_ranni.png',\n",
    "    'elden\\\\elden_02.jpg',\n",
    "]\n",
    "\n",
    "for d in content_dir:\n",
    "    for f in os.listdir(content_path + '\\\\' + d):\n",
    "        all_content_paths.append(content_path + '\\\\' + d + '\\\\' + f)\n",
    "\n",
    "for p in content_paths:\n",
    "    all_content_paths.append(content_path + '\\\\' + p)\n",
    "\n",
    "all_style_paths = [\n",
    "    'C:\\\\Users\\\\ConnardMcGregoire\\\\Documents\\\\images\\\\contents\\\\elden\\\\elden_ring_ranni.png',\n",
    "]\n",
    "\n",
    "style_path = 'C:\\\\Users\\\\ConnardMcGregoire\\\\Documents\\\\images\\\\styles'\n",
    "\n",
    "style_dir = [\n",
    "    'brick',\n",
    "    'coal',\n",
    "    'ember',\n",
    "    'lava',\n",
    "    'radagon',\n",
    "    'slime',\n",
    "    'water',\n",
    "    'wood',\n",
    "]\n",
    "\n",
    "style_paths = [\n",
    "    'cubism.jpg',\n",
    "    'Dusthead.jpg',\n",
    "    'Ice.jpg',\n",
    "    'In4.jpg',\n",
    "    'picasso_01.jpg',\n",
    "    'picasso_02.jpg',\n",
    "    'picasso_03.jpg',\n",
    "    'Hokusai.jpg',\n",
    "    'Jackson.jpg',\n",
    "    'moss.jpg',\n",
    "    'tiger.jpg',\n",
    "    'VanGogh.jpg',\n",
    "]\n",
    "\n",
    "for d in style_dir:\n",
    "    for f in os.listdir(style_path + '\\\\' + d):\n",
    "        all_style_paths.append(style_path + '\\\\' + d + '\\\\' + f)\n",
    "\n",
    "for p in style_paths:\n",
    "    all_style_paths.append(style_path + '\\\\' + p)\n",
    "\n",
    "save_path = 'C:\\\\Users\\\\ConnardMcGregoire\\\\Documents\\\\images\\\\results\\\\'"
   ]
  },
  {
   "cell_type": "code",
   "execution_count": 3,
   "metadata": {},
   "outputs": [
    {
     "data": {
      "text/plain": [
       "\"\\nall_style_paths = [\\n    'C:\\\\Users\\\\ConnardMcGregoire\\\\Documents\\\\images\\\\styles\\\\VanGogh.jpg',\\n    'C:\\\\Users\\\\ConnardMcGregoire\\\\Documents\\\\images\\\\styles\\\\Hokusai.jpg',\\n    'C:\\\\Users\\\\ConnardMcGregoire\\\\Documents\\\\images\\\\contents\\\\elden\\\\elden_ring_ranni.png',\\n    'C:\\\\Users\\\\ConnardMcGregoire\\\\Documents\\\\images\\\\contents\\\\elden\\\\elden_02.jpg',\\n    'C:\\\\Users\\\\ConnardMcGregoire\\\\Documents\\\\images\\\\styles\\\\water\\\\in1.jpg',\\n    'C:\\\\Users\\\\ConnardMcGregoire\\\\Documents\\\\images\\\\styles\\\\water\\\\water_02.jpg',\\n    'C:\\\\Users\\\\ConnardMcGregoire\\\\Documents\\\\images\\\\styles\\\\water\\\\water_03.jpg',\\n    'C:\\\\Users\\\\ConnardMcGregoire\\\\Documents\\\\images\\\\styles\\\\water\\\\water_04.jpg',\\n    'C:\\\\Users\\\\ConnardMcGregoire\\\\Documents\\\\images\\\\styles\\\\water\\\\water_07.jpg',\\n    'C:\\\\Users\\\\ConnardMcGregoire\\\\Documents\\\\images\\\\styles\\\\lava\\\\lava_04.jpg',\\n    'C:\\\\Users\\\\ConnardMcGregoire\\\\Documents\\\\images\\\\styles\\\\radagon\\\\radagon_01.jpg',\\n    'C:\\\\Users\\\\ConnardMcGregoire\\\\Documents\\\\images\\\\styles\\\\radagon\\\\radagon_02.png',\\n    'C:\\\\Users\\\\ConnardMcGregoire\\\\Documents\\\\images\\\\styles\\\\radagon\\\\radagon_04.jpg',\\n    'C:\\\\Users\\\\ConnardMcGregoire\\\\Documents\\\\images\\\\styles\\\\radagon\\\\radagon_06.jpg',\\n    'C:\\\\Users\\\\ConnardMcGregoire\\\\Documents\\\\images\\\\styles\\\\tiger.jpg',\\n    'C:\\\\Users\\\\ConnardMcGregoire\\\\Documents\\\\images\\\\styles\\\\brick\\\\brick_01.jpg',\\n    'C:\\\\Users\\\\ConnardMcGregoire\\\\Documents\\\\images\\\\styles\\\\brick\\\\brick_02.jpg',\\n    'C:\\\\Users\\\\ConnardMcGregoire\\\\Documents\\\\images\\\\styles\\\\brick\\\\brick_03.jpg',\\n    'C:\\\\Users\\\\ConnardMcGregoire\\\\Documents\\\\images\\\\styles\\\\brick\\\\brick_04.jpg',\\n    'C:\\\\Users\\\\ConnardMcGregoire\\\\Documents\\\\images\\\\styles\\\\brick\\\\brick_05.jpg',\\n\\n\\n]\\n\""
      ]
     },
     "execution_count": 3,
     "metadata": {},
     "output_type": "execute_result"
    }
   ],
   "source": [
    "\"\"\"\n",
    "all_style_paths = [\n",
    "    'C:\\\\Users\\\\ConnardMcGregoire\\\\Documents\\\\images\\\\styles\\\\VanGogh.jpg',\n",
    "    'C:\\\\Users\\\\ConnardMcGregoire\\\\Documents\\\\images\\\\styles\\\\Hokusai.jpg',\n",
    "    'C:\\\\Users\\\\ConnardMcGregoire\\\\Documents\\\\images\\\\contents\\\\elden\\\\elden_ring_ranni.png',\n",
    "    'C:\\\\Users\\\\ConnardMcGregoire\\\\Documents\\\\images\\\\contents\\\\elden\\\\elden_02.jpg',\n",
    "    'C:\\\\Users\\\\ConnardMcGregoire\\\\Documents\\\\images\\\\styles\\\\water\\\\in1.jpg',\n",
    "    'C:\\\\Users\\\\ConnardMcGregoire\\\\Documents\\\\images\\\\styles\\\\water\\\\water_02.jpg',\n",
    "    'C:\\\\Users\\\\ConnardMcGregoire\\\\Documents\\\\images\\\\styles\\\\water\\\\water_03.jpg',\n",
    "    'C:\\\\Users\\\\ConnardMcGregoire\\\\Documents\\\\images\\\\styles\\\\water\\\\water_04.jpg',\n",
    "    'C:\\\\Users\\\\ConnardMcGregoire\\\\Documents\\\\images\\\\styles\\\\water\\\\water_07.jpg',\n",
    "    'C:\\\\Users\\\\ConnardMcGregoire\\\\Documents\\\\images\\\\styles\\\\lava\\\\lava_04.jpg',\n",
    "    'C:\\\\Users\\\\ConnardMcGregoire\\\\Documents\\\\images\\\\styles\\\\radagon\\\\radagon_01.jpg',\n",
    "    'C:\\\\Users\\\\ConnardMcGregoire\\\\Documents\\\\images\\\\styles\\\\radagon\\\\radagon_02.png',\n",
    "    'C:\\\\Users\\\\ConnardMcGregoire\\\\Documents\\\\images\\\\styles\\\\radagon\\\\radagon_04.jpg',\n",
    "    'C:\\\\Users\\\\ConnardMcGregoire\\\\Documents\\\\images\\\\styles\\\\radagon\\\\radagon_06.jpg',\n",
    "    'C:\\\\Users\\\\ConnardMcGregoire\\\\Documents\\\\images\\\\styles\\\\tiger.jpg',\n",
    "    'C:\\\\Users\\\\ConnardMcGregoire\\\\Documents\\\\images\\\\styles\\\\brick\\\\brick_01.jpg',\n",
    "    'C:\\\\Users\\\\ConnardMcGregoire\\\\Documents\\\\images\\\\styles\\\\brick\\\\brick_02.jpg',\n",
    "    'C:\\\\Users\\\\ConnardMcGregoire\\\\Documents\\\\images\\\\styles\\\\brick\\\\brick_03.jpg',\n",
    "    'C:\\\\Users\\\\ConnardMcGregoire\\\\Documents\\\\images\\\\styles\\\\brick\\\\brick_04.jpg',\n",
    "    'C:\\\\Users\\\\ConnardMcGregoire\\\\Documents\\\\images\\\\styles\\\\brick\\\\brick_05.jpg',\n",
    "\n",
    "\n",
    "]\n",
    "\"\"\""
   ]
  },
  {
   "cell_type": "code",
   "execution_count": 4,
   "metadata": {},
   "outputs": [],
   "source": [
    "all_content_paths = [\n",
    "    'C:\\\\Users\\\\ConnardMcGregoire\\\\Documents\\\\images\\\\contents\\\\manhatan_01.jpg',\n",
    "    'C:\\\\Users\\\\ConnardMcGregoire\\\\Documents\\\\images\\\\contents\\\\manhatan_02.jpg',\n",
    "    'C:\\\\Users\\\\ConnardMcGregoire\\\\Documents\\\\images\\\\contents\\\\manhatan_03.png',\n",
    "    'C:\\\\Users\\\\ConnardMcGregoire\\\\Documents\\\\images\\\\contents\\\\manhatan_04.png',\n",
    "]"
   ]
  },
  {
   "cell_type": "code",
   "execution_count": 5,
   "metadata": {},
   "outputs": [],
   "source": [
    "def style_transfer(model, c_path, s_path, save_path=None, size_factor=1.0):\n",
    "    content = im.load_not_too_big_image(c_path).to(device)\n",
    "    style = im.load_not_too_big_image(s_path, max_size=900*900, size_factor=size_factor).to(device)\n",
    "\n",
    "    output = model(content, style)\n",
    "    im.save_image(output, save_path)"
   ]
  },
  {
   "cell_type": "code",
   "execution_count": 6,
   "metadata": {},
   "outputs": [],
   "source": [
    "model = edf.MultiLevelWCT().to(device)\n",
    "\n",
    "faster_model = edf.FasterMultiLevelWCT_v2(alpha=0.75).to(device)"
   ]
  },
  {
   "cell_type": "code",
   "execution_count": 7,
   "metadata": {},
   "outputs": [
    {
     "name": "stderr",
     "output_type": "stream",
     "text": [
      " 49%|████▉     | 28/57 [02:41<02:50,  5.88s/it]"
     ]
    }
   ],
   "source": [
    "with torch.no_grad():\n",
    "    for c in all_content_paths:\n",
    "        for s in tqdm(all_style_paths):\n",
    "            style_transfer(faster_model, c, s, save_path + c.split('\\\\')[-1].split('.')[0] + '_' + s.split('\\\\')[-1].split('.')[0] + '.jpg',\n",
    "                           size_factor=.5)\n",
    "        \n",
    "        break"
   ]
  },
  {
   "cell_type": "code",
   "execution_count": null,
   "metadata": {},
   "outputs": [
    {
     "name": "stdout",
     "output_type": "stream",
     "text": [
      "[]\n"
     ]
    }
   ],
   "source": [
    "print(list(range(0, 0)))"
   ]
  }
 ],
 "metadata": {
  "kernelspec": {
   "display_name": "Python 3",
   "language": "python",
   "name": "python3"
  },
  "language_info": {
   "codemirror_mode": {
    "name": "ipython",
    "version": 3
   },
   "file_extension": ".py",
   "mimetype": "text/x-python",
   "name": "python",
   "nbconvert_exporter": "python",
   "pygments_lexer": "ipython3",
   "version": "3.9.13"
  }
 },
 "nbformat": 4,
 "nbformat_minor": 2
}
